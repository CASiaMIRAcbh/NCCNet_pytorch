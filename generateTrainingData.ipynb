{
 "cells": [
  {
   "cell_type": "code",
   "execution_count": 1,
   "id": "69965327",
   "metadata": {},
   "outputs": [],
   "source": [
    "%load_ext autoreload\n",
    "%autoreload 2"
   ]
  },
  {
   "cell_type": "code",
   "execution_count": 2,
   "id": "d15bd32d",
   "metadata": {},
   "outputs": [
    {
     "name": "stdout",
     "output_type": "stream",
     "text": [
      "19-4\n",
      "43984\n",
      "use data in sub folders:  ['19-4']\n"
     ]
    }
   ],
   "source": [
    "import datagene\n",
    "import os\n",
    "import random\n",
    "\n",
    "SUBPATH_NUM = 5\n",
    "\n",
    "rawpath = 'E:\\\\zbf\\\\zbf-small'\n",
    "dstpath = 'E:\\\\zbf\\\\zbf-train-mix'\n",
    "subpaths = os.listdir(rawpath)\n",
    "subp_pre = []\n",
    "nid = 0\n",
    "\n",
    "while True:\n",
    "    subp = random.choice(subpaths)\n",
    "    if subp in subp_pre:\n",
    "        continue\n",
    "    subp_pre.append(subp)\n",
    "    print(subp)\n",
    "    nid = datagene.gene_data_in_folders(os.path.join(rawpath, subp), dstpath, begin = nid)\n",
    "    print(nid)\n",
    "    if len(subp_pre) >= SUBPATH_NUM:\n",
    "        break\n",
    "        \n",
    "print('use data in sub folders: ', subp_pre)"
   ]
  },
  {
   "cell_type": "code",
   "execution_count": null,
   "id": "7eed6b48",
   "metadata": {},
   "outputs": [],
   "source": []
  }
 ],
 "metadata": {
  "kernelspec": {
   "display_name": "Python 3 (ipykernel)",
   "language": "python",
   "name": "python3"
  },
  "language_info": {
   "codemirror_mode": {
    "name": "ipython",
    "version": 3
   },
   "file_extension": ".py",
   "mimetype": "text/x-python",
   "name": "python",
   "nbconvert_exporter": "python",
   "pygments_lexer": "ipython3",
   "version": "3.7.5"
  }
 },
 "nbformat": 4,
 "nbformat_minor": 5
}
